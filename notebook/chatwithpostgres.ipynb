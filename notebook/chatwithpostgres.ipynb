{
 "cells": [
  {
   "cell_type": "code",
   "execution_count": 1,
   "id": "63358dc9-98c4-484f-b9df-3e5fa53624f8",
   "metadata": {},
   "outputs": [],
   "source": [
    "import vanna\n",
    "from vanna.remote import VannaDefault"
   ]
  },
  {
   "cell_type": "code",
   "execution_count": 3,
   "id": "f8252cb5-1dd2-41d1-97d2-10539be4e563",
   "metadata": {},
   "outputs": [],
   "source": [
    "\n",
    "vn = VannaDefault(model='model_name', api_key='your-api-key')\n"
   ]
  },
  {
   "cell_type": "code",
   "execution_count": 4,
   "id": "b5abd547-8672-4f3c-ba69-a0f99172e8ed",
   "metadata": {},
   "outputs": [],
   "source": [
    "vn.connect_to_postgres(host='localhost', dbname='postgres', user='postgres', password='faisal', port='5432')"
   ]
  },
  {
   "cell_type": "code",
   "execution_count": 24,
   "id": "674775de-5f0e-45a2-b7ca-43f95ee927cb",
   "metadata": {},
   "outputs": [],
   "source": [
    "import psycopg2\n",
    "from psycopg2 import sql\n",
    "\n",
    "def get_database_schema_as_create_statements():\n",
    "    # Connect to the database\n",
    "    conn = psycopg2.connect(\n",
    "        dbname=\"db_name,\n",
    "        user=\"user_name\",\n",
    "        password=\"password\",\n",
    "        host=\"localhost\",\n",
    "        port=\"port_number\"\n",
    "    )\n",
    "\n",
    "    cursor = conn.cursor()\n",
    "    cursor.execute(\"\"\"\n",
    "        SELECT table_name\n",
    "        FROM information_schema.tables\n",
    "        WHERE table_schema = 'public';\n",
    "    \"\"\")\n",
    "    tables = cursor.fetchall()\n",
    "    schema_statements = {}\n",
    "\n",
    "    for table in tables:\n",
    "        table_name = table[0]\n",
    "        get_create_statement_query = sql.SQL(\"\"\"\n",
    "            SELECT 'CREATE TABLE ' || tablename || ' (' ||\n",
    "                array_to_string(array_agg(column_def), ', ') || ');'\n",
    "            FROM (\n",
    "                SELECT table_name AS tablename,\n",
    "                       column_name || ' ' || data_type || \n",
    "                       COALESCE('(' || character_maximum_length || ')', '') || \n",
    "                       CASE WHEN is_nullable = 'NO' THEN ' NOT NULL' ELSE '' END AS column_def\n",
    "                FROM information_schema.columns\n",
    "                WHERE table_schema = 'public' AND table_name = %s\n",
    "                ORDER BY ordinal_position\n",
    "            ) AS table_definitions\n",
    "            GROUP BY tablename;\n",
    "        \"\"\")\n",
    "\n",
    "        cursor.execute(get_create_statement_query, (table_name,))\n",
    "        create_statement = cursor.fetchone()[0]\n",
    "        schema_statements[table_name] = create_statement\n",
    "\n",
    "    cursor.close()\n",
    "    conn.close()\n",
    "\n",
    "    # Store all CREATE TABLE statements in a single variable\n",
    "    schema_output = \"\"\n",
    "    for table_name, statement in schema_statements.items():\n",
    "        schema_output += f\"-- Table: {table_name}\\n{statement}\\n\\n\"\n",
    "\n",
    "    return schema_output\n",
    "\n",
    "# Store the schema in a variable\n",
    "\n",
    "\n",
    "\n"
   ]
  },
  {
   "cell_type": "code",
   "execution_count": 25,
   "id": "869da17e-b7cc-41c8-9b6b-ef853e3b7cc0",
   "metadata": {},
   "outputs": [],
   "source": [
    "database_schema = get_database_schema_as_create_statements()"
   ]
  },
  {
   "cell_type": "code",
   "execution_count": 26,
   "id": "0bde5e04-e073-4628-8b43-ee6297762848",
   "metadata": {},
   "outputs": [
    {
     "data": {
      "text/plain": [
       "'-- Table: rental\\nCREATE TABLE rental (rental_id integer NOT NULL, rental_date timestamp without time zone NOT NULL, inventory_id integer NOT NULL, customer_id smallint NOT NULL, return_date timestamp without time zone, staff_id smallint NOT NULL, last_update timestamp without time zone NOT NULL);\\n\\n-- Table: staff\\nCREATE TABLE staff (staff_id integer NOT NULL, first_name character varying(45) NOT NULL, last_name character varying(45) NOT NULL, address_id smallint NOT NULL, email character varying(50), store_id smallint NOT NULL, active boolean NOT NULL, username character varying(16) NOT NULL, password character varying(40), last_update timestamp without time zone NOT NULL, picture bytea);\\n\\n-- Table: payment\\nCREATE TABLE payment (payment_id integer NOT NULL, customer_id smallint NOT NULL, staff_id smallint NOT NULL, rental_id integer NOT NULL, amount numeric NOT NULL, payment_date timestamp without time zone NOT NULL);\\n\\n-- Table: actor\\nCREATE TABLE actor (actor_id integer NOT NULL, first_name character varying(45) NOT NULL, last_name character varying(45) NOT NULL, last_update timestamp without time zone NOT NULL);\\n\\n-- Table: actor_info\\nCREATE TABLE actor_info (actor_id integer, first_name character varying(45), last_name character varying(45), film_info text);\\n\\n-- Table: customer_list\\nCREATE TABLE customer_list (id integer, name text, address character varying(50), zip code character varying(10), phone character varying(20), city character varying(50), country character varying(50), notes text, sid smallint);\\n\\n-- Table: film_list\\nCREATE TABLE film_list (fid integer, title character varying(255), description text, category character varying(25), price numeric, length smallint, rating USER-DEFINED, actors text);\\n\\n-- Table: film\\nCREATE TABLE film (film_id integer NOT NULL, title character varying(255) NOT NULL, description text, release_year integer, language_id smallint NOT NULL, rental_duration smallint NOT NULL, rental_rate numeric NOT NULL, length smallint, replacement_cost numeric NOT NULL, rating USER-DEFINED, last_update timestamp without time zone NOT NULL, special_features ARRAY, fulltext tsvector NOT NULL);\\n\\n-- Table: address\\nCREATE TABLE address (address_id integer NOT NULL, address character varying(50) NOT NULL, address2 character varying(50), district character varying(20) NOT NULL, city_id smallint NOT NULL, postal_code character varying(10), phone character varying(20) NOT NULL, last_update timestamp without time zone NOT NULL);\\n\\n-- Table: category\\nCREATE TABLE category (category_id integer NOT NULL, name character varying(25) NOT NULL, last_update timestamp without time zone NOT NULL);\\n\\n-- Table: city\\nCREATE TABLE city (city_id integer NOT NULL, city character varying(50) NOT NULL, country_id smallint NOT NULL, last_update timestamp without time zone NOT NULL);\\n\\n-- Table: country\\nCREATE TABLE country (country_id integer NOT NULL, country character varying(50) NOT NULL, last_update timestamp without time zone NOT NULL);\\n\\n-- Table: customer\\nCREATE TABLE customer (customer_id integer NOT NULL, store_id smallint NOT NULL, first_name character varying(45) NOT NULL, last_name character varying(45) NOT NULL, email character varying(50), address_id smallint NOT NULL, activebool boolean NOT NULL, create_date date NOT NULL, last_update timestamp without time zone, active integer);\\n\\n-- Table: film_actor\\nCREATE TABLE film_actor (actor_id smallint NOT NULL, film_id smallint NOT NULL, last_update timestamp without time zone NOT NULL);\\n\\n-- Table: film_category\\nCREATE TABLE film_category (film_id smallint NOT NULL, category_id smallint NOT NULL, last_update timestamp without time zone NOT NULL);\\n\\n-- Table: inventory\\nCREATE TABLE inventory (inventory_id integer NOT NULL, film_id smallint NOT NULL, store_id smallint NOT NULL, last_update timestamp without time zone NOT NULL);\\n\\n-- Table: language\\nCREATE TABLE language (language_id integer NOT NULL, name character(20) NOT NULL, last_update timestamp without time zone NOT NULL);\\n\\n-- Table: nicer_but_slower_film_list\\nCREATE TABLE nicer_but_slower_film_list (fid integer, title character varying(255), description text, category character varying(25), price numeric, length smallint, rating USER-DEFINED, actors text);\\n\\n-- Table: sales_by_film_category\\nCREATE TABLE sales_by_film_category (category character varying(25), total_sales numeric);\\n\\n-- Table: store\\nCREATE TABLE store (store_id integer NOT NULL, manager_staff_id smallint NOT NULL, address_id smallint NOT NULL, last_update timestamp without time zone NOT NULL);\\n\\n-- Table: sales_by_store\\nCREATE TABLE sales_by_store (store text, manager text, total_sales numeric);\\n\\n-- Table: staff_list\\nCREATE TABLE staff_list (id integer, name text, address character varying(50), zip code character varying(10), phone character varying(20), city character varying(50), country character varying(50), sid smallint);\\n\\n'"
      ]
     },
     "execution_count": 26,
     "metadata": {},
     "output_type": "execute_result"
    }
   ],
   "source": [
    "database_schema"
   ]
  },
  {
   "cell_type": "code",
   "execution_count": 27,
   "id": "440ef748-72a7-4c02-b022-5efec2ca1931",
   "metadata": {},
   "outputs": [
    {
     "name": "stdout",
     "output_type": "stream",
     "text": [
      "Adding ddl: -- Table: rental\n",
      "CREATE TABLE rental (rental_id integer NOT NULL, rental_date timestamp without time zone NOT NULL, inventory_id integer NOT NULL, customer_id smallint NOT NULL, return_date timestamp without time zone, staff_id smallint NOT NULL, last_update timestamp without time zone NOT NULL);\n",
      "\n",
      "-- Table: staff\n",
      "CREATE TABLE staff (staff_id integer NOT NULL, first_name character varying(45) NOT NULL, last_name character varying(45) NOT NULL, address_id smallint NOT NULL, email character varying(50), store_id smallint NOT NULL, active boolean NOT NULL, username character varying(16) NOT NULL, password character varying(40), last_update timestamp without time zone NOT NULL, picture bytea);\n",
      "\n",
      "-- Table: payment\n",
      "CREATE TABLE payment (payment_id integer NOT NULL, customer_id smallint NOT NULL, staff_id smallint NOT NULL, rental_id integer NOT NULL, amount numeric NOT NULL, payment_date timestamp without time zone NOT NULL);\n",
      "\n",
      "-- Table: actor\n",
      "CREATE TABLE actor (actor_id integer NOT NULL, first_name character varying(45) NOT NULL, last_name character varying(45) NOT NULL, last_update timestamp without time zone NOT NULL);\n",
      "\n",
      "-- Table: actor_info\n",
      "CREATE TABLE actor_info (actor_id integer, first_name character varying(45), last_name character varying(45), film_info text);\n",
      "\n",
      "-- Table: customer_list\n",
      "CREATE TABLE customer_list (id integer, name text, address character varying(50), zip code character varying(10), phone character varying(20), city character varying(50), country character varying(50), notes text, sid smallint);\n",
      "\n",
      "-- Table: film_list\n",
      "CREATE TABLE film_list (fid integer, title character varying(255), description text, category character varying(25), price numeric, length smallint, rating USER-DEFINED, actors text);\n",
      "\n",
      "-- Table: film\n",
      "CREATE TABLE film (film_id integer NOT NULL, title character varying(255) NOT NULL, description text, release_year integer, language_id smallint NOT NULL, rental_duration smallint NOT NULL, rental_rate numeric NOT NULL, length smallint, replacement_cost numeric NOT NULL, rating USER-DEFINED, last_update timestamp without time zone NOT NULL, special_features ARRAY, fulltext tsvector NOT NULL);\n",
      "\n",
      "-- Table: address\n",
      "CREATE TABLE address (address_id integer NOT NULL, address character varying(50) NOT NULL, address2 character varying(50), district character varying(20) NOT NULL, city_id smallint NOT NULL, postal_code character varying(10), phone character varying(20) NOT NULL, last_update timestamp without time zone NOT NULL);\n",
      "\n",
      "-- Table: category\n",
      "CREATE TABLE category (category_id integer NOT NULL, name character varying(25) NOT NULL, last_update timestamp without time zone NOT NULL);\n",
      "\n",
      "-- Table: city\n",
      "CREATE TABLE city (city_id integer NOT NULL, city character varying(50) NOT NULL, country_id smallint NOT NULL, last_update timestamp without time zone NOT NULL);\n",
      "\n",
      "-- Table: country\n",
      "CREATE TABLE country (country_id integer NOT NULL, country character varying(50) NOT NULL, last_update timestamp without time zone NOT NULL);\n",
      "\n",
      "-- Table: customer\n",
      "CREATE TABLE customer (customer_id integer NOT NULL, store_id smallint NOT NULL, first_name character varying(45) NOT NULL, last_name character varying(45) NOT NULL, email character varying(50), address_id smallint NOT NULL, activebool boolean NOT NULL, create_date date NOT NULL, last_update timestamp without time zone, active integer);\n",
      "\n",
      "-- Table: film_actor\n",
      "CREATE TABLE film_actor (actor_id smallint NOT NULL, film_id smallint NOT NULL, last_update timestamp without time zone NOT NULL);\n",
      "\n",
      "-- Table: film_category\n",
      "CREATE TABLE film_category (film_id smallint NOT NULL, category_id smallint NOT NULL, last_update timestamp without time zone NOT NULL);\n",
      "\n",
      "-- Table: inventory\n",
      "CREATE TABLE inventory (inventory_id integer NOT NULL, film_id smallint NOT NULL, store_id smallint NOT NULL, last_update timestamp without time zone NOT NULL);\n",
      "\n",
      "-- Table: language\n",
      "CREATE TABLE language (language_id integer NOT NULL, name character(20) NOT NULL, last_update timestamp without time zone NOT NULL);\n",
      "\n",
      "-- Table: nicer_but_slower_film_list\n",
      "CREATE TABLE nicer_but_slower_film_list (fid integer, title character varying(255), description text, category character varying(25), price numeric, length smallint, rating USER-DEFINED, actors text);\n",
      "\n",
      "-- Table: sales_by_film_category\n",
      "CREATE TABLE sales_by_film_category (category character varying(25), total_sales numeric);\n",
      "\n",
      "-- Table: store\n",
      "CREATE TABLE store (store_id integer NOT NULL, manager_staff_id smallint NOT NULL, address_id smallint NOT NULL, last_update timestamp without time zone NOT NULL);\n",
      "\n",
      "-- Table: sales_by_store\n",
      "CREATE TABLE sales_by_store (store text, manager text, total_sales numeric);\n",
      "\n",
      "-- Table: staff_list\n",
      "CREATE TABLE staff_list (id integer, name text, address character varying(50), zip code character varying(10), phone character varying(20), city character varying(50), country character varying(50), sid smallint);\n",
      "\n",
      "\n",
      "Adding documentation....\n",
      "Question generated with sql: What are the total revenue and total spent by category? \n",
      "Adding SQL...\n"
     ]
    },
    {
     "data": {
      "text/plain": [
       "'6bfb8039021d2674285e65d03fd487d3-sql'"
      ]
     },
     "execution_count": 27,
     "metadata": {},
     "output_type": "execute_result"
    }
   ],
   "source": [
    "\n",
    "vn.train(ddl=f\"{database_schema}\")\n",
    "\n",
    "\n",
    "vn.train(documentation=\"The DVD Rental database is a schema that represents a DVD rental business. It contains tables for actors, films, rentals, payments, customers, staff, stores, and inventory. Each table has specific columns that reflect real-world attributes of a rental store.\")\n",
    "\n",
    "# You can also add SQL queries to your training data. This is useful if you have some queries already laying around. You can just copy and paste those from your editor to begin generating new SQL.\n",
    "vn.train(sql=\"\"\"\n",
    "    SELECT * FROM film WHERE rental_rate > 5.00;\n",
    "    \n",
    "    SELECT first_name, last_name \n",
    "    FROM actor \n",
    "    WHERE actor_id IN (\n",
    "        SELECT actor_id \n",
    "        FROM film_actor \n",
    "        WHERE film_id = 1\n",
    "    );\n",
    "\n",
    "    SELECT customer_id, SUM(amount) as total_spent \n",
    "    FROM payment \n",
    "    WHERE payment_date >= '2022-01-01' \n",
    "    GROUP BY customer_id;\n",
    "\n",
    "    SELECT c.name AS category, SUM(p.amount) AS total_revenue\n",
    "    FROM payment p\n",
    "    JOIN rental r ON p.rental_id = r.rental_id\n",
    "    JOIN inventory i ON r.inventory_id = i.inventory_id\n",
    "    JOIN film f ON i.film_id = f.film_id\n",
    "    JOIN film_category fc ON f.film_id = fc.film_id\n",
    "    JOIN category c ON fc.category_id = c.category_id\n",
    "    GROUP BY c.name;\n",
    "\n",
    "    SELECT customer_id, COUNT(rental_id) AS rental_count\n",
    "    FROM rental\n",
    "    GROUP BY customer_id\n",
    "    ORDER BY rental_count DESC;\n",
    "\"\"\")\n"
   ]
  },
  {
   "cell_type": "code",
   "execution_count": 28,
   "id": "99d17615-9048-41ef-b0ea-224d3153e15e",
   "metadata": {},
   "outputs": [
    {
     "data": {
      "text/html": [
       "<div>\n",
       "<style scoped>\n",
       "    .dataframe tbody tr th:only-of-type {\n",
       "        vertical-align: middle;\n",
       "    }\n",
       "\n",
       "    .dataframe tbody tr th {\n",
       "        vertical-align: top;\n",
       "    }\n",
       "\n",
       "    .dataframe thead th {\n",
       "        text-align: right;\n",
       "    }\n",
       "</style>\n",
       "<table border=\"1\" class=\"dataframe\">\n",
       "  <thead>\n",
       "    <tr style=\"text-align: right;\">\n",
       "      <th></th>\n",
       "      <th>id</th>\n",
       "      <th>training_data_type</th>\n",
       "      <th>question</th>\n",
       "      <th>content</th>\n",
       "    </tr>\n",
       "  </thead>\n",
       "  <tbody>\n",
       "    <tr>\n",
       "      <th>0</th>\n",
       "      <td>2365236-doc</td>\n",
       "      <td>documentation</td>\n",
       "      <td>None</td>\n",
       "      <td>The DVD Rental database is a schema that repre...</td>\n",
       "    </tr>\n",
       "    <tr>\n",
       "      <th>1</th>\n",
       "      <td>485635-sql</td>\n",
       "      <td>sql</td>\n",
       "      <td>What are the total revenue and total spent by ...</td>\n",
       "      <td>\\n    SELECT * FROM film WHERE rental_rate &gt; 5...</td>\n",
       "    </tr>\n",
       "    <tr>\n",
       "      <th>2</th>\n",
       "      <td>341813-ddl</td>\n",
       "      <td>ddl</td>\n",
       "      <td>None</td>\n",
       "      <td>-- Table: rental\\nCREATE TABLE rental (rental_...</td>\n",
       "    </tr>\n",
       "  </tbody>\n",
       "</table>\n",
       "</div>"
      ],
      "text/plain": [
       "            id training_data_type  \\\n",
       "0  2365236-doc      documentation   \n",
       "1   485635-sql                sql   \n",
       "2   341813-ddl                ddl   \n",
       "\n",
       "                                            question  \\\n",
       "0                                               None   \n",
       "1  What are the total revenue and total spent by ...   \n",
       "2                                               None   \n",
       "\n",
       "                                             content  \n",
       "0  The DVD Rental database is a schema that repre...  \n",
       "1  \\n    SELECT * FROM film WHERE rental_rate > 5...  \n",
       "2  -- Table: rental\\nCREATE TABLE rental (rental_...  "
      ]
     },
     "execution_count": 28,
     "metadata": {},
     "output_type": "execute_result"
    }
   ],
   "source": [
    "training_data = vn.get_training_data()\n",
    "training_data"
   ]
  },
  {
   "cell_type": "code",
   "execution_count": null,
   "id": "ea8cfd0c-b8d3-4308-9c09-cef181627e29",
   "metadata": {},
   "outputs": [],
   "source": [
    "from vanna.flask import VannaFlaskApp\n",
    "app = VannaFlaskApp(vn)\n",
    "app.run()"
   ]
  },
  {
   "cell_type": "code",
   "execution_count": null,
   "id": "1e60cdb7-a1c8-42a8-8b06-8c2f0783a1fc",
   "metadata": {},
   "outputs": [],
   "source": []
  }
 ],
 "metadata": {
  "kernelspec": {
   "display_name": "Python 3.12",
   "language": "python",
   "name": "python312"
  },
  "language_info": {
   "codemirror_mode": {
    "name": "ipython",
    "version": 3
   },
   "file_extension": ".py",
   "mimetype": "text/x-python",
   "name": "python",
   "nbconvert_exporter": "python",
   "pygments_lexer": "ipython3",
   "version": "3.12.2"
  }
 },
 "nbformat": 4,
 "nbformat_minor": 5
}
